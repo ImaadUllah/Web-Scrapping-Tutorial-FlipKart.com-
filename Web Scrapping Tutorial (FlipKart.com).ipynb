{
 "cells": [
  {
   "cell_type": "markdown",
   "metadata": {},
   "source": [
    "## Imaad Ullah\n",
    "\n",
    "### Email: imaad3358@gmail.com\n",
    "\n",
    "### Cell: +923457760858"
   ]
  },
  {
   "cell_type": "markdown",
   "metadata": {},
   "source": [
    "#### Web Scrapping Tutorial"
   ]
  },
  {
   "cell_type": "code",
   "execution_count": 136,
   "metadata": {},
   "outputs": [],
   "source": [
    "# importing the libraries"
   ]
  },
  {
   "cell_type": "code",
   "execution_count": 122,
   "metadata": {},
   "outputs": [],
   "source": [
    "from bs4 import BeautifulSoup as soup\n",
    "from urllib.request import urlopen as uReq"
   ]
  },
  {
   "cell_type": "code",
   "execution_count": null,
   "metadata": {},
   "outputs": [],
   "source": [
    "# The link from where you want to scrap your data you need."
   ]
  },
  {
   "cell_type": "code",
   "execution_count": 123,
   "metadata": {},
   "outputs": [],
   "source": [
    "my_url = 'https://www.flipkart.com/search?q=iphone&sid=tyy%2C4io&as=on&as-show=on&otracker=AS_QueryStore_OrganicAutoSuggest_0_5&otracker1=AS_QueryStore_OrganicAutoSuggest_0_5&as-pos=0&as-type=RECENT&as-backfill=on'"
   ]
  },
  {
   "cell_type": "code",
   "execution_count": 124,
   "metadata": {},
   "outputs": [],
   "source": [
    "uClient = uReq(my_url)\n",
    "page_html = uClient.read()"
   ]
  },
  {
   "cell_type": "code",
   "execution_count": 125,
   "metadata": {},
   "outputs": [],
   "source": [
    "uClient.close()"
   ]
  },
  {
   "cell_type": "code",
   "execution_count": 137,
   "metadata": {},
   "outputs": [],
   "source": [
    "page_soup = soup(page_html, 'html.parser')"
   ]
  },
  {
   "cell_type": "code",
   "execution_count": 127,
   "metadata": {},
   "outputs": [
    {
     "name": "stdout",
     "output_type": "stream",
     "text": [
      "24\n"
     ]
    }
   ],
   "source": [
    "containers = page_soup.findAll('div', {'class': \"_1UoZlX\"})\n",
    "print(len(containers))"
   ]
  },
  {
   "cell_type": "code",
   "execution_count": 128,
   "metadata": {},
   "outputs": [
    {
     "name": "stdout",
     "output_type": "stream",
     "text": [
      "<div class=\"_1UoZlX\">\n",
      " <a class=\"_31qSD5\" href=\"/apple-iphone-x-space-gray-64-gb/p/itmexrgv6hctyrav?pid=MOBEXRGVCMGVCGGQ&amp;srno=s_1_1&amp;otracker=AS_QueryStore_OrganicAutoSuggest_0_5&amp;otracker1=AS_QueryStore_OrganicAutoSuggest_0_5&amp;lid=LSTMOBEXRGVCMGVCGGQFLD1LA&amp;fm=organic&amp;iid=7e4ccd6c-0164-468c-8ba4-8d9bd96112aa.MOBEXRGVCMGVCGGQ.SEARCH&amp;qH=0b3f45b266a97d70\" rel=\"noopener noreferrer\" target=\"_blank\">\n",
      "  <div class=\"_3RW86r\">\n",
      "   ON OFFER\n",
      "  </div>\n",
      "  <div class=\"_3SQWE6\">\n",
      "   <div class=\"_1OCn9C\">\n",
      "    <div>\n",
      "     <div class=\"_3BTv9X\" style=\"height:200px;width:200px\">\n",
      "      <img alt=\"Apple iPhone X (Space Gray, 64 GB)\" class=\"_1Nyybr\" src=\"//img1a.flixcart.com/www/linchpin/fk-cp-zion/img/placeholder_9951d0.svg\"/>\n",
      "     </div>\n",
      "    </div>\n",
      "   </div>\n",
      "   <div class=\"_2lesQu\">\n",
      "    <div class=\"_1O_CiZ\">\n",
      "     <span class=\"_1iHA1p\">\n",
      "      <div class=\"_2kFyHg\">\n",
      "       <label>\n",
      "        <input class=\"_3uUUD5\" readonly=\"\" type=\"checkbox\"/>\n",
      "        <div class=\"_1p7h2j\">\n",
      "        </div>\n",
      "       </label>\n",
      "      </div>\n",
      "     </span>\n",
      "     <label class=\"_10TB-Q\">\n",
      "      <span>\n",
      "       Add to Compare\n",
      "      </span>\n",
      "     </label>\n",
      "    </div>\n",
      "   </div>\n",
      "   <div class=\"_3gDSOa _32A6AP\">\n",
      "    <div class=\"DsQ2eg\">\n",
      "     <svg class=\"_2oLiqr\" height=\"16\" viewbox=\"0 0 20 16\" width=\"16\" xmlns=\"http://www.w3.org/2000/svg\">\n",
      "      <path class=\"_35Y7Yo\" d=\"M8.695 16.682C4.06 12.382 1 9.536 1 6.065 1 3.219 3.178 1 5.95 1c1.566 0 3.069.746 4.05 1.915C10.981 1.745 12.484 1 14.05 1 16.822 1 19 3.22 19 6.065c0 3.471-3.06 6.316-7.695 10.617L10 17.897l-1.305-1.215z\" fill=\"#2874F0\" fill-rule=\"evenodd\" opacity=\".9\" stroke=\"#FFF\">\n",
      "      </path>\n",
      "     </svg>\n",
      "    </div>\n",
      "   </div>\n",
      "  </div>\n",
      "  <div class=\"_1-2Iqu row\">\n",
      "   <div class=\"col col-7-12\">\n",
      "    <div class=\"_3wU53n\">\n",
      "     Apple iPhone X (Space Gray, 64 GB)\n",
      "    </div>\n",
      "    <div class=\"niH0FQ\">\n",
      "     <span class=\"_2_KrJI\" id=\"productRating_LSTMOBEXRGVCMGVCGGQFLD1LA_MOBEXRGVCMGVCGGQ_\">\n",
      "      <div class=\"hGSR34\">\n",
      "       4.6\n",
      "       <img class=\"_2lQ_WZ\" src=\"data:image/svg+xml;base64,PHN2ZyB4bWxucz0iaHR0cDovL3d3dy53My5vcmcvMjAwMC9zdmciIHdpZHRoPSIxMyIgaGVpZ2h0PSIxMiI+PHBhdGggZmlsbD0iI0ZGRiIgZD0iTTYuNSA5LjQzOWwtMy42NzQgMi4yMy45NC00LjI2LTMuMjEtMi44ODMgNC4yNTQtLjQwNEw2LjUuMTEybDEuNjkgNC4wMSA0LjI1NC40MDQtMy4yMSAyLjg4Mi45NCA0LjI2eiIvPjwvc3ZnPg==\"/>\n",
      "      </div>\n",
      "     </span>\n",
      "     <span class=\"_38sUEc\">\n",
      "      <span>\n",
      "       <span>\n",
      "        7,235 Ratings\n",
      "       </span>\n",
      "       <span class=\"_1VpSqZ\">\n",
      "        &amp;\n",
      "       </span>\n",
      "       <span>\n",
      "        644 Reviews\n",
      "       </span>\n",
      "      </span>\n",
      "     </span>\n",
      "    </div>\n",
      "    <div class=\"_3ULzGw\">\n",
      "     <ul class=\"vFw0gD\">\n",
      "      <li class=\"tVe95H\">\n",
      "       64 GB ROM |\n",
      "      </li>\n",
      "      <li class=\"tVe95H\">\n",
      "       14.73 cm (5.8 inch) Super Retina HD Display\n",
      "      </li>\n",
      "      <li class=\"tVe95H\">\n",
      "       12MP + 12MP | 7MP Front Camera\n",
      "      </li>\n",
      "      <li class=\"tVe95H\">\n",
      "       A11 Bionic Chip with 64-bit Architecture, Neural Engine, Embedded M11 Motion Coprocessor Processor\n",
      "      </li>\n",
      "      <li class=\"tVe95H\">\n",
      "       Brand Warranty of 1 Year\n",
      "      </li>\n",
      "     </ul>\n",
      "    </div>\n",
      "   </div>\n",
      "   <div class=\"col col-5-12 _2o7WAb\">\n",
      "    <div class=\"_6BWGkk\">\n",
      "     <div class=\"_1uv9Cb\">\n",
      "      <div class=\"_1vC4OE _2rQ-NK\">\n",
      "       ₹69,999\n",
      "      </div>\n",
      "      <div class=\"_3auQ3N _2GcJzG\">\n",
      "       ₹\n",
      "       <!-- -->\n",
      "       91,900\n",
      "      </div>\n",
      "      <div class=\"VGWI6T\">\n",
      "       <span>\n",
      "        23% off\n",
      "       </span>\n",
      "      </div>\n",
      "     </div>\n",
      "    </div>\n",
      "    <div class=\"_3n6o0t\">\n",
      "     <img height=\"21\" src=\"//img1a.flixcart.com/www/linchpin/fk-cp-zion/img/fa_8b4b59.png\"/>\n",
      "    </div>\n",
      "    <div class=\"_3gVem9\">\n",
      "     <span>\n",
      "      Up to\n",
      "      <span class=\"_2xjzPG\">\n",
      "       ₹17,900\n",
      "      </span>\n",
      "      Off on Exchange\n",
      "     </span>\n",
      "    </div>\n",
      "    <div class=\"_3MCpsc\">\n",
      "     EMI starting from\n",
      "     <!-- -->\n",
      "     <span class=\"_1JT2XE\">\n",
      "      ₹\n",
      "      <!-- -->\n",
      "      2325\n",
      "      <!-- -->\n",
      "      /month\n",
      "     </span>\n",
      "    </div>\n",
      "    <div class=\"OPF9v4 _2WQngC\">\n",
      "     <span class=\"_1xZuAn\">\n",
      "      Offers\n",
      "     </span>\n",
      "     <ul class=\"_3U7997\">\n",
      "      <li class=\"_1ZRRx1\">\n",
      "       No Cost EMI\n",
      "      </li>\n",
      "      <li class=\"_1ZRRx1\">\n",
      "       Special Price\n",
      "      </li>\n",
      "      <li class=\"_1ZRRx1\">\n",
      "       Bank Offer\n",
      "      </li>\n",
      "     </ul>\n",
      "    </div>\n",
      "   </div>\n",
      "  </div>\n",
      " </a>\n",
      "</div>\n"
     ]
    }
   ],
   "source": [
    "print(soup.prettify(containers[0]))"
   ]
  },
  {
   "cell_type": "code",
   "execution_count": 139,
   "metadata": {},
   "outputs": [],
   "source": [
    "# To scrap the name of the product we need this class  {'class': '_3wU53n}#"
   ]
  },
  {
   "cell_type": "code",
   "execution_count": 140,
   "metadata": {},
   "outputs": [
    {
     "name": "stdout",
     "output_type": "stream",
     "text": [
      "Apple iPhone X (Space Gray, 64 GB)\n"
     ]
    }
   ],
   "source": [
    "container = containers[0]\n",
    "\n",
    "product_name = container.findAll('div', {'class': '_3wU53n'})\n",
    "print(product_name[0].text)"
   ]
  },
  {
   "cell_type": "code",
   "execution_count": 141,
   "metadata": {},
   "outputs": [],
   "source": [
    "# To scrap the price of the product we need this class  {'class': '_1vC4OE _2rQ-NK'}"
   ]
  },
  {
   "cell_type": "code",
   "execution_count": 142,
   "metadata": {},
   "outputs": [
    {
     "name": "stdout",
     "output_type": "stream",
     "text": [
      "₹69,999\n"
     ]
    }
   ],
   "source": [
    "price = container.findAll('div', {'class': '_1vC4OE _2rQ-NK'})\n",
    "print(price[0].text)"
   ]
  },
  {
   "cell_type": "code",
   "execution_count": 145,
   "metadata": {},
   "outputs": [],
   "source": [
    "# To scrap the description of the product we need this class {'class' : '_3ULzGw'}"
   ]
  },
  {
   "cell_type": "code",
   "execution_count": 144,
   "metadata": {},
   "outputs": [
    {
     "name": "stdout",
     "output_type": "stream",
     "text": [
      "64 GB ROM |14.73 cm (5.8 inch) Super Retina HD Display12MP + 12MP | 7MP Front CameraA11 Bionic Chip with 64-bit Architecture, Neural Engine, Embedded M11 Motion Coprocessor ProcessorBrand Warranty of 1 Year\n"
     ]
    }
   ],
   "source": [
    "description = container.findAll('div', {'class' : '_3ULzGw'})\n",
    "print(description[0].text)"
   ]
  },
  {
   "cell_type": "code",
   "execution_count": 146,
   "metadata": {},
   "outputs": [],
   "source": [
    "# To scrap the description of the product we need this class {'class': 'niH0FQ'}"
   ]
  },
  {
   "cell_type": "code",
   "execution_count": 147,
   "metadata": {},
   "outputs": [
    {
     "name": "stdout",
     "output_type": "stream",
     "text": [
      "4.67,235 Ratings & 644 Reviews\n"
     ]
    }
   ],
   "source": [
    "ratings = container.findAll('div', {'class': 'niH0FQ'})\n",
    "print(ratings[0].text)"
   ]
  },
  {
   "cell_type": "code",
   "execution_count": 149,
   "metadata": {},
   "outputs": [],
   "source": [
    "# After scrapping we have to save the data somewhere, so the below line of code save the scrapped data into a csv file named\n",
    "# \"Products_flipkart.csv\""
   ]
  },
  {
   "cell_type": "code",
   "execution_count": 148,
   "metadata": {},
   "outputs": [],
   "source": [
    "filename = 'products_flipkart.csv'\n",
    "f = open(filename, 'w')"
   ]
  },
  {
   "cell_type": "code",
   "execution_count": 150,
   "metadata": {},
   "outputs": [],
   "source": [
    "# We need columns names for our data, and we have to provide it ourselves, so these are the columns names"
   ]
  },
  {
   "cell_type": "code",
   "execution_count": 134,
   "metadata": {},
   "outputs": [
    {
     "data": {
      "text/plain": [
       "42"
      ]
     },
     "execution_count": 134,
     "metadata": {},
     "output_type": "execute_result"
    }
   ],
   "source": [
    "headers = 'Product_Name, Price, Description, Ratings\\n'\n",
    "f.write(headers)"
   ]
  },
  {
   "cell_type": "code",
   "execution_count": 151,
   "metadata": {},
   "outputs": [],
   "source": [
    "# Below line of code actually pick each attribute one at a time and then print it and after that \n",
    "# save that into the file."
   ]
  },
  {
   "cell_type": "code",
   "execution_count": 135,
   "metadata": {},
   "outputs": [
    {
     "name": "stdout",
     "output_type": "stream",
     "text": [
      "Apple iPhone X (Space Gray| 64 GB),Rs.69999,4.67,235\n",
      "\n",
      "Apple iPhone XR (Black| 128 GB),Rs.64999,4.62,486\n",
      "\n",
      "Apple iPhone 6s (Rose Gold| 32 GB),Rs.29799,4.585,500\n",
      "\n",
      "Apple iPhone XR ((PRODUCT)RED| 64 GB),Rs.59999,4.62,486\n",
      "\n",
      "Apple iPhone 6s (Space Grey| 32 GB),Rs.29590,4.585,500\n",
      "\n",
      "Apple iPhone 8 Plus (Silver| 64 GB),Rs.51999,4.63,051\n",
      "\n",
      "Apple iPhone 6s (Gold| 32 GB),Rs.29799,4.585,500\n",
      "\n",
      "Apple iPhone XR (Black| 64 GB),Rs.59999,4.62,486\n",
      "\n",
      "Apple iPhone 6s Plus (Silver| 16 GB),Rs.39976,4.417,893\n",
      "\n",
      "Apple iPhone 6s Plus (Space Grey| 32 GB),Rs.34900,4.417,893\n",
      "\n",
      "Apple iPhone 8 Plus (Gold| 256 GB),Rs.62999,4.63,051\n",
      "\n",
      "Apple iPhone XR (White| 64 GB),Rs.59999,4.62,486\n",
      "\n",
      "Apple iPhone 7 (Silver| 128 GB),Rs.47999,4.556,448\n",
      "\n",
      "Apple iPhone XR (White| 128 GB),Rs.64999,4.62,486\n",
      "\n",
      "Apple iPhone X (Silver| 64 GB),Rs.69999,4.67,235\n",
      "\n",
      "Apple iPhone XR (Coral| 64 GB),Rs.59449,4.62,486\n",
      "\n",
      "Apple iPhone 8 (Space Grey| 64 GB),Rs.58999,4.62,550\n",
      "\n",
      "Apple iPhone 7 Plus (Jet Black| 32 GB),Rs.49499,4.4112\n",
      "\n",
      "Apple iPhone 7 (Black| 32 GB),Rs.39849,4.556,448\n",
      "\n",
      "Apple iPhone 8 Plus (Space Grey| 256 GB),Rs.62999,4.63,051\n",
      "\n",
      "Apple iPhone 8 (Silver| 64 GB),Rs.58999,4.62,550\n",
      "\n",
      "Apple iPhone 8 Plus (Silver| 256 GB),Rs.62999,4.63,051\n",
      "\n",
      "Apple iPhone 7 (Silver| 32 GB),Rs.39849,4.556,448\n",
      "\n",
      "Apple iPhone 8 (Gold| 64 GB),Rs.57000,4.62,550\n",
      "\n"
     ]
    }
   ],
   "source": [
    "for container in containers:\n",
    "    name = container.findAll('div', {'class': '_3wU53n'})\n",
    "    product_name = name[0].text\n",
    "    \n",
    "    price_container = container.findAll('div', {'class': '_1vC4OE _2rQ-NK'})\n",
    "    price = price_container[0].text.strip()\n",
    "    \n",
    "    description_container = container.findAll('div', {'class' : '_3ULzGw'})\n",
    "    description = description_container[0].text\n",
    "    \n",
    "    ratings_container = container.findAll('div', {'class': 'niH0FQ'})\n",
    "    ratings = ratings_container[0].text\n",
    "    \n",
    "#     print('Product Name ' + product_name)\n",
    "#     print('Price ' + price)\n",
    "#     print(\"Description \" + description)\n",
    "#     print('Ratings '+ ratings)\n",
    "    \n",
    "    trim_price = ''.join(price.split(','))\n",
    "    rm_rupees = trim_price.split('₹')\n",
    "    add_rs_price = 'Rs.' + rm_rupees[1]\n",
    "    split_price = add_rs_price.split('E')\n",
    "    final_price = split_price[0]\n",
    "    \n",
    "    \n",
    "    split_rating = ratings.split(' ')\n",
    "    final_ratings = split_rating[0]\n",
    "    \n",
    "    print(product_name.replace(',' , '|') + ',' + final_price + \",\" + final_ratings + '\\n')\n",
    "    f.write(product_name.replace(',' , '|') + ',' + final_price + \",\" + final_ratings + '\\n')"
   ]
  },
  {
   "cell_type": "code",
   "execution_count": 121,
   "metadata": {},
   "outputs": [],
   "source": [
    "f.close()"
   ]
  }
 ],
 "metadata": {
  "kernelspec": {
   "display_name": "Python 3",
   "language": "python",
   "name": "python3"
  },
  "language_info": {
   "codemirror_mode": {
    "name": "ipython",
    "version": 3
   },
   "file_extension": ".py",
   "mimetype": "text/x-python",
   "name": "python",
   "nbconvert_exporter": "python",
   "pygments_lexer": "ipython3",
   "version": "3.7.1"
  }
 },
 "nbformat": 4,
 "nbformat_minor": 2
}
